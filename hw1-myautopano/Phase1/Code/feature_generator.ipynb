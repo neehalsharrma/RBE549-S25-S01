{
 "cells": [
  {
   "cell_type": "markdown",
   "metadata": {},
   "source": [
    "Detect Corner "
   ]
  },
  {
   "cell_type": "code",
   "execution_count": 4,
   "metadata": {},
   "outputs": [],
   "source": [
    "import cv2\n",
    "import numpy as np"
   ]
  },
  {
   "cell_type": "code",
   "execution_count": 18,
   "metadata": {},
   "outputs": [
    {
     "name": "stdout",
     "output_type": "stream",
     "text": [
      "1915105.2   -444763.2\n",
      "0\n"
     ]
    }
   ],
   "source": [
    "image_path= r\"C:\\Users\\91744\\Desktop\\rbe 549\\P1_starter_code\\YourDirectoryID_p1\\Phase1\\Data\\Train\\Set1\\1.jpg\"\n",
    "\n",
    "\n",
    "img= cv2.imread(image_path)\n",
    "gray = cv2.cvtColor(img, cv2.COLOR_BGR2GRAY)\n",
    "\n",
    "# img, blocksize, ksize, k\n",
    "# This will give us intensity of detected corners so this is all that matters\n",
    "probab_corner= cv2.cornerHarris(gray,7,11,0.04) \n",
    "print(probab_corner.max(), \" \", probab_corner.min())\n",
    "dst = cv2.dilate(probab_corner,None)\n",
    "img[probab_corner>0.01*probab_corner.max()]=[0,0,255]\n",
    "\n",
    "threshold= 0.01*probab_corner.max()\n",
    "detected_corner_masks= probab_corner>threshold\n",
    "detected_corner_masks= (detected_corner_masks*255).astype(np.uint8)\n",
    "# probab_corner= cv2.normalize(probab_corner, None, 0,255,cv2.NORM_MINMAX)\n",
    "# print(probab_corner.max(), \" \", probab_corner.min())\n",
    "print((detected_corner_masks[0,0]))\n",
    "cv2.imshow(\"corners highlighted\", img)\n",
    "\n",
    "cv2.waitKey(0)\n",
    "cv2.destroyAllWindows()"
   ]
  },
  {
   "cell_type": "code",
   "execution_count": 32,
   "metadata": {},
   "outputs": [],
   "source": [
    "import matplotlib.pyplot as plt\n",
    "from skimage.feature import peak_local_max\n",
    "import math"
   ]
  },
  {
   "cell_type": "code",
   "execution_count": null,
   "metadata": {},
   "outputs": [
    {
     "ename": "TypeError",
     "evalue": "select_top() missing 1 required positional argument: 'coords'",
     "output_type": "error",
     "traceback": [
      "\u001b[1;31m---------------------------------------------------------------------------\u001b[0m",
      "\u001b[1;31mTypeError\u001b[0m                                 Traceback (most recent call last)",
      "Cell \u001b[1;32mIn[33], line 46\u001b[0m\n\u001b[0;32m     43\u001b[0m     \u001b[38;5;28;01mfor\u001b[39;00m i \u001b[38;5;129;01min\u001b[39;00m \u001b[38;5;28mrange\u001b[39m(n):\n\u001b[0;32m     44\u001b[0m         top_n\u001b[38;5;241m.\u001b[39mappend()\n\u001b[1;32m---> 46\u001b[0m \u001b[43mselect_top\u001b[49m\u001b[43m(\u001b[49m\u001b[43mlocal_maximas\u001b[49m\u001b[43m)\u001b[49m\n\u001b[0;32m     48\u001b[0m \u001b[38;5;28mprint\u001b[39m(local_maximas\u001b[38;5;241m.\u001b[39msize)\n\u001b[0;32m     49\u001b[0m \u001b[38;5;28mprint\u001b[39m(\u001b[38;5;28mtype\u001b[39m(local_maximas[\u001b[38;5;241m0\u001b[39m,\u001b[38;5;241m0\u001b[39m]))\n",
      "\u001b[1;31mTypeError\u001b[0m: select_top() missing 1 required positional argument: 'coords'"
     ]
    }
   ],
   "source": [
    "# We will now try to look for local maxima in probab_corner\n",
    "\n",
    "# probab_corner\n",
    "threshold= 0.01*probab_corner.max()\n",
    "probab_corner= np.where(probab_corner>threshold, probab_corner, 0)\n",
    "local_maximas= peak_local_max(probab_corner, min_distance=7)\n",
    "\n",
    "\n",
    "# Checking stuff\n",
    "# print(type(local_maximas))\n",
    "# print(local_maximas)\n",
    "# plt.imshow(probab_corner, cmap='gray')\n",
    "# plt.plot(local_maximas[:, 1], local_maximas[:, 0], 'r.')\n",
    "# plt.show()\n",
    "\n",
    "# Ordering functions\n",
    "def dist(coord1, coord2):\n",
    "    return np.sqrt((coord1[0]-coord2[0])**2+(coord1[1]-coord2[1])**2)\n",
    "\n",
    "# Ordering by distance\n",
    "def calc_distances(coords):\n",
    "    distances= {}\n",
    "    total_elements=coords.size\n",
    "    for i in range(total_elements):\n",
    "        if i not in distances:\n",
    "            distances[i]= math.inf\n",
    "        for j in range(i+1, total_elements):\n",
    "            if j not in distances:\n",
    "                distances[j]= math.inf\n",
    "            temp_dist= dist(coords[i], coords[j])\n",
    "            if(temp_dist<distances[i]):\n",
    "                distances[i]=temp_dist\n",
    "            if(temp_dist<distances[j]):\n",
    "                distances[j]=temp_dist\n",
    "    return distances\n",
    "\n",
    "def select_top(n, coords):\n",
    "    distances= calc_distances(coords)\n",
    "    top_n=[]\n",
    "    distances= dict(sorted(distances.items(), key=lambda item: item[1], reverse=True))\n",
    "    print(distances)\n",
    "    print(distances.keys())\n",
    "    for i in range(n):\n",
    "        top_n.append()\n",
    "\n",
    "select_top(10,local_maximas)\n",
    "\n",
    "print(local_maximas.size)\n",
    "print(type(local_maximas[0,0]))"
   ]
  },
  {
   "cell_type": "markdown",
   "metadata": {},
   "source": []
  },
  {
   "cell_type": "code",
   "execution_count": null,
   "metadata": {},
   "outputs": [],
   "source": []
  }
 ],
 "metadata": {
  "kernelspec": {
   "display_name": ".venv",
   "language": "python",
   "name": "python3"
  },
  "language_info": {
   "codemirror_mode": {
    "name": "ipython",
    "version": 3
   },
   "file_extension": ".py",
   "mimetype": "text/x-python",
   "name": "python",
   "nbconvert_exporter": "python",
   "pygments_lexer": "ipython3",
   "version": "3.13.1"
  }
 },
 "nbformat": 4,
 "nbformat_minor": 2
}
